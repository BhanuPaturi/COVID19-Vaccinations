{
 "cells": [
  {
   "cell_type": "markdown",
   "id": "91e4f947-34ff-413b-a476-5bcb2b874518",
   "metadata": {},
   "source": [
    "The 2021 and 2020 raw data from ghcnd ~100mb each, are too large for github. Can download and extract 2021.csv.gz & 2020.csv.gz from https://www1.ncdc.noaa.gov/pub/data/ghcn/daily/by_year/ "
   ]
  },
  {
   "cell_type": "code",
   "execution_count": 1,
   "id": "2bb5379d-76b4-4e58-b09e-baa18de58574",
   "metadata": {},
   "outputs": [],
   "source": [
    "using CSV\n",
    "using DataFrames\n",
    "using Statistics\n",
    "using DataFramesMeta"
   ]
  },
  {
   "cell_type": "markdown",
   "id": "6a9c3461-1169-4536-be8a-638997ef53b6",
   "metadata": {},
   "source": [
    "Load data:"
   ]
  },
  {
   "cell_type": "code",
   "execution_count": 4,
   "id": "0203ae41-d53a-4caf-b5c2-e3b7418725c1",
   "metadata": {
    "tags": []
   },
   "outputs": [],
   "source": [
    "daily_2020 = CSV.File(\"2020.csv\",header=0) |> DataFrame;\n",
    "daily_2021 = CSV.File(\"2021.csv\",header=0) |> DataFrame;\n",
    "append!(daily_2021,daily_2021)\n",
    "countries = CSV.File(\"fips-10-4-to-iso-country-codes.csv\") |> DataFrame;"
   ]
  },
  {
   "cell_type": "markdown",
   "id": "5ceb32b2-daca-41f5-9370-4e23e8c32ed4",
   "metadata": {},
   "source": [
    "Select wanted data and rename appropriately, filter for only avg temp & precipitation data."
   ]
  },
  {
   "cell_type": "code",
   "execution_count": 6,
   "id": "e9262e8b-2b52-49fb-b756-9220b84058ac",
   "metadata": {
    "tags": []
   },
   "outputs": [],
   "source": [
    "df = daily_2021;\n",
    "select!(df,:Column1,:Column2,:Column3,:Column4);\n",
    "rename!(df,[:station,:date,:element,:value]);\n",
    "filter!(:element => element -> (element == \"TAVG\" || element == \"PRCP\"),df);"
   ]
  },
  {
   "cell_type": "markdown",
   "id": "ea5fcb58-77cf-4f29-b239-ff80a780d415",
   "metadata": {},
   "source": [
    "Change from 10th of Celsius and tenths of mm -> Celsius and mm"
   ]
  },
  {
   "cell_type": "code",
   "execution_count": 7,
   "id": "4d31d772-9bac-4154-a6be-ed2e3813306f",
   "metadata": {},
   "outputs": [],
   "source": [
    "df.value = df.value./10;"
   ]
  },
  {
   "cell_type": "markdown",
   "id": "73ab8569-1494-4598-9068-494b68f0f7d4",
   "metadata": {},
   "source": [
    "Add new column for fips country code, which is a substring of the station names."
   ]
  },
  {
   "cell_type": "code",
   "execution_count": 8,
   "id": "4011c17d-93c9-499e-93ca-61a089ddcb5a",
   "metadata": {},
   "outputs": [],
   "source": [
    "df.fips = SubString.(string.(df.station),1,2);"
   ]
  },
  {
   "cell_type": "markdown",
   "id": "4b7c526c-4587-4d61-922c-4264c8516461",
   "metadata": {},
   "source": [
    "Find mean value for avg temp & precipitation for each country."
   ]
  },
  {
   "cell_type": "code",
   "execution_count": 9,
   "id": "8877b06b-d637-430c-8adf-70f197418875",
   "metadata": {
    "tags": []
   },
   "outputs": [],
   "source": [
    "climate = combine(groupby(df,[:fips,:element]), :value=>mean=>:value);"
   ]
  },
  {
   "cell_type": "markdown",
   "id": "262d6b11-14d8-4f02-ba6b-c65fe0e47dcd",
   "metadata": {},
   "source": [
    "Make long data frame into wide data frame, with seperate columns for tavg and prcp.\n",
    "Doing this by making two subsets and joining them."
   ]
  },
  {
   "cell_type": "code",
   "execution_count": 10,
   "id": "f0622383-2f3e-40e3-8892-52842746a63d",
   "metadata": {
    "tags": []
   },
   "outputs": [],
   "source": [
    "tavg = filter(:element => element -> (element == \"TAVG\"),climate);\n",
    "rename!(tavg,:value=>:tavg);\n",
    "select!(tavg,:fips,:tavg);\n",
    "prcp = filter(:element => element -> (element == \"PRCP\"),climate);\n",
    "rename!(prcp,:value=>:prcp);\n",
    "select!(prcp,:fips,:prcp);\n",
    "\n",
    "climate_wide = outerjoin(tavg,prcp,on=:fips);"
   ]
  },
  {
   "cell_type": "markdown",
   "id": "05a7612f-c882-454c-a292-f66cdea716ae",
   "metadata": {},
   "source": [
    "Join the climate and country data together."
   ]
  },
  {
   "cell_type": "code",
   "execution_count": 11,
   "id": "fbe23caf-b006-4323-9876-557e9db27fc7",
   "metadata": {},
   "outputs": [
    {
     "data": {
      "text/html": [
       "<table class=\"data-frame\"><thead><tr><th></th><th>fips</th><th>tavg</th><th>prcp</th><th>iso3166</th><th>Name</th></tr><tr><th></th><th>SubStri…</th><th>Float64?</th><th>Float64?</th><th>String?</th><th>String?</th></tr></thead><tbody><p>279 rows × 5 columns</p><tr><th>1</th><td>AE</td><td>30.6095</td><td>0.0</td><td>AE</td><td>United Arab Emirates</td></tr><tr><th>2</th><td>AF</td><td>19.3022</td><td>3.32</td><td>AF</td><td>Afghanistan</td></tr><tr><th>3</th><td>AG</td><td>22.9381</td><td>0.783375</td><td>DZ</td><td>Algeria</td></tr><tr><th>4</th><td>AJ</td><td>17.3267</td><td>10.9522</td><td>AZ</td><td>Azerbaijan</td></tr><tr><th>5</th><td>AL</td><td>17.2345</td><td><em>missing</em></td><td>AL</td><td>Albania</td></tr><tr><th>6</th><td>AM</td><td>10.7996</td><td>3.05077</td><td>AM</td><td>Armenia</td></tr><tr><th>7</th><td>AO</td><td>24.737</td><td>12.404</td><td>AO</td><td>Angola</td></tr><tr><th>8</th><td>AQ</td><td>27.5725</td><td>9.63018</td><td>AS</td><td>American Samoa</td></tr><tr><th>9</th><td>AR</td><td>15.6661</td><td>6.17386</td><td>AR</td><td>Argentina</td></tr><tr><th>10</th><td>AS</td><td>18.1041</td><td>2.42917</td><td>AU</td><td>Australia</td></tr><tr><th>11</th><td>AU</td><td>9.04444</td><td>9.51421</td><td>AT</td><td>Austria</td></tr><tr><th>12</th><td>AY</td><td>-22.06</td><td>1.87374</td><td>AQ</td><td>Antarctica</td></tr><tr><th>13</th><td>BA</td><td>29.5655</td><td>0.0727273</td><td>BH</td><td>Bahrain</td></tr><tr><th>14</th><td>BC</td><td>21.3227</td><td>5.54148</td><td>BW</td><td>Botswana</td></tr><tr><th>15</th><td>BD</td><td>22.5195</td><td>4.57155</td><td>BM</td><td>Bermuda</td></tr><tr><th>16</th><td>BE</td><td>11.7434</td><td>2.97148</td><td>BE</td><td>Belgium</td></tr><tr><th>17</th><td>BF</td><td>26.0542</td><td>2.45244</td><td>BS</td><td>Bahamas, The</td></tr><tr><th>18</th><td>BG</td><td>24.9608</td><td>0.0</td><td>BD</td><td>Bangladesh</td></tr><tr><th>19</th><td>BH</td><td>27.9076</td><td>3.42902</td><td>BZ</td><td>Belize</td></tr><tr><th>20</th><td>BK</td><td>13.9807</td><td>2.78072</td><td>BA</td><td>Bosnia and Herzegovina</td></tr><tr><th>21</th><td>BL</td><td>23.1872</td><td>8.81538</td><td>BO</td><td>Bolivia</td></tr><tr><th>22</th><td>BM</td><td>28.4768</td><td>17.6683</td><td>MM</td><td>Burma</td></tr><tr><th>23</th><td>BM</td><td>28.4768</td><td>17.6683</td><td>MM</td><td>Myanmar</td></tr><tr><th>24</th><td>BN</td><td>27.8795</td><td>8.16409</td><td>BJ</td><td>Benin</td></tr><tr><th>25</th><td>BO</td><td>7.59375</td><td>4.40474</td><td>BY</td><td>Belarus</td></tr><tr><th>26</th><td>BP</td><td>27.1476</td><td>6.97503</td><td>SB</td><td>Solomon Islands</td></tr><tr><th>27</th><td>BR</td><td>24.4675</td><td>6.03991</td><td>BR</td><td>Brazil</td></tr><tr><th>28</th><td>BU</td><td>13.9813</td><td>1.84938</td><td>BG</td><td>Bulgaria</td></tr><tr><th>29</th><td>BX</td><td>27.5909</td><td>12.9694</td><td>BN</td><td>Brunei</td></tr><tr><th>30</th><td>CA</td><td>5.71476</td><td>2.09148</td><td>CA</td><td>Canada</td></tr><tr><th>&vellip;</th><td>&vellip;</td><td>&vellip;</td><td>&vellip;</td><td>&vellip;</td><td>&vellip;</td></tr></tbody></table>"
      ],
      "text/latex": [
       "\\begin{tabular}{r|ccccc}\n",
       "\t& fips & tavg & prcp & iso3166 & Name\\\\\n",
       "\t\\hline\n",
       "\t& SubStri… & Float64? & Float64? & String? & String?\\\\\n",
       "\t\\hline\n",
       "\t1 & AE & 30.6095 & 0.0 & AE & United Arab Emirates \\\\\n",
       "\t2 & AF & 19.3022 & 3.32 & AF & Afghanistan \\\\\n",
       "\t3 & AG & 22.9381 & 0.783375 & DZ & Algeria \\\\\n",
       "\t4 & AJ & 17.3267 & 10.9522 & AZ & Azerbaijan \\\\\n",
       "\t5 & AL & 17.2345 & \\emph{missing} & AL & Albania \\\\\n",
       "\t6 & AM & 10.7996 & 3.05077 & AM & Armenia \\\\\n",
       "\t7 & AO & 24.737 & 12.404 & AO & Angola \\\\\n",
       "\t8 & AQ & 27.5725 & 9.63018 & AS & American Samoa \\\\\n",
       "\t9 & AR & 15.6661 & 6.17386 & AR & Argentina \\\\\n",
       "\t10 & AS & 18.1041 & 2.42917 & AU & Australia \\\\\n",
       "\t11 & AU & 9.04444 & 9.51421 & AT & Austria \\\\\n",
       "\t12 & AY & -22.06 & 1.87374 & AQ & Antarctica \\\\\n",
       "\t13 & BA & 29.5655 & 0.0727273 & BH & Bahrain \\\\\n",
       "\t14 & BC & 21.3227 & 5.54148 & BW & Botswana \\\\\n",
       "\t15 & BD & 22.5195 & 4.57155 & BM & Bermuda \\\\\n",
       "\t16 & BE & 11.7434 & 2.97148 & BE & Belgium \\\\\n",
       "\t17 & BF & 26.0542 & 2.45244 & BS & Bahamas, The \\\\\n",
       "\t18 & BG & 24.9608 & 0.0 & BD & Bangladesh \\\\\n",
       "\t19 & BH & 27.9076 & 3.42902 & BZ & Belize \\\\\n",
       "\t20 & BK & 13.9807 & 2.78072 & BA & Bosnia and Herzegovina \\\\\n",
       "\t21 & BL & 23.1872 & 8.81538 & BO & Bolivia \\\\\n",
       "\t22 & BM & 28.4768 & 17.6683 & MM & Burma \\\\\n",
       "\t23 & BM & 28.4768 & 17.6683 & MM & Myanmar \\\\\n",
       "\t24 & BN & 27.8795 & 8.16409 & BJ & Benin \\\\\n",
       "\t25 & BO & 7.59375 & 4.40474 & BY & Belarus \\\\\n",
       "\t26 & BP & 27.1476 & 6.97503 & SB & Solomon Islands \\\\\n",
       "\t27 & BR & 24.4675 & 6.03991 & BR & Brazil \\\\\n",
       "\t28 & BU & 13.9813 & 1.84938 & BG & Bulgaria \\\\\n",
       "\t29 & BX & 27.5909 & 12.9694 & BN & Brunei \\\\\n",
       "\t30 & CA & 5.71476 & 2.09148 & CA & Canada \\\\\n",
       "\t$\\dots$ & $\\dots$ & $\\dots$ & $\\dots$ & $\\dots$ & $\\dots$ \\\\\n",
       "\\end{tabular}\n"
      ],
      "text/plain": [
       "\u001b[1m279×5 DataFrame\u001b[0m\n",
       "\u001b[1m Row \u001b[0m│\u001b[1m fips      \u001b[0m\u001b[1m tavg          \u001b[0m\u001b[1m prcp            \u001b[0m\u001b[1m iso3166 \u001b[0m\u001b[1m Name               \u001b[0m ⋯\n",
       "\u001b[1m     \u001b[0m│\u001b[90m SubStrin… \u001b[0m\u001b[90m Float64?      \u001b[0m\u001b[90m Float64?        \u001b[0m\u001b[90m String? \u001b[0m\u001b[90m String?            \u001b[0m ⋯\n",
       "─────┼──────────────────────────────────────────────────────────────────────────\n",
       "   1 │ AE              30.6095         0.0        AE       United Arab Emirate ⋯\n",
       "   2 │ AF              19.3022         3.32       AF       Afghanistan\n",
       "   3 │ AG              22.9381         0.783375   DZ       Algeria\n",
       "   4 │ AJ              17.3267        10.9522     AZ       Azerbaijan\n",
       "   5 │ AL              17.2345  \u001b[90m missing         \u001b[0m AL       Albania             ⋯\n",
       "   6 │ AM              10.7996         3.05077    AM       Armenia\n",
       "   7 │ AO              24.737         12.404      AO       Angola\n",
       "   8 │ AQ              27.5725         9.63018    AS       American Samoa\n",
       "   9 │ AR              15.6661         6.17386    AR       Argentina           ⋯\n",
       "  10 │ AS              18.1041         2.42917    AU       Australia\n",
       "  11 │ AU               9.04444        9.51421    AT       Austria\n",
       "  ⋮  │     ⋮            ⋮               ⋮            ⋮                     ⋮   ⋱\n",
       " 270 │ -         \u001b[90m missing       \u001b[0m\u001b[90m missing         \u001b[0m UM       United States Minor\n",
       " 271 │ VT        \u001b[90m missing       \u001b[0m\u001b[90m missing         \u001b[0m VA       Vatican City        ⋯\n",
       " 272 │ VI        \u001b[90m missing       \u001b[0m\u001b[90m missing         \u001b[0m VG       Virgin Islands, Bri\n",
       " 273 │ -         \u001b[90m missing       \u001b[0m\u001b[90m missing         \u001b[0m -        Virgin Islands (UK)\n",
       " 274 │ -         \u001b[90m missing       \u001b[0m\u001b[90m missing         \u001b[0m -        Virgin Islands (US)\n",
       " 275 │ WE        \u001b[90m missing       \u001b[0m\u001b[90m missing         \u001b[0m PS       West Bank           ⋯\n",
       " 276 │ -         \u001b[90m missing       \u001b[0m\u001b[90m missing         \u001b[0m -        Western Samoa\n",
       " 277 │ -         \u001b[90m missing       \u001b[0m\u001b[90m missing         \u001b[0m -        World\n",
       " 278 │ YM        \u001b[90m missing       \u001b[0m\u001b[90m missing         \u001b[0m YE       Yemen\n",
       " 279 │ -         \u001b[90m missing       \u001b[0m\u001b[90m missing         \u001b[0m -        Zaire               ⋯\n",
       "\u001b[36m                                                   1 column and 258 rows omitted\u001b[0m"
      ]
     },
     "execution_count": 11,
     "metadata": {},
     "output_type": "execute_result"
    }
   ],
   "source": [
    "data = outerjoin(climate_wide, countries, on = :fips)"
   ]
  },
  {
   "cell_type": "code",
   "execution_count": 13,
   "id": "813f4789-69be-40e7-bb2e-1f8e90a6ca68",
   "metadata": {},
   "outputs": [
    {
     "data": {
      "text/plain": [
       "\"climate.csv\""
      ]
     },
     "execution_count": 13,
     "metadata": {},
     "output_type": "execute_result"
    }
   ],
   "source": [
    "CSV.write(\"climate.csv\",data)"
   ]
  }
 ],
 "metadata": {
  "kernelspec": {
   "display_name": "Julia 1.6.2",
   "language": "julia",
   "name": "julia-1.6"
  },
  "language_info": {
   "file_extension": ".jl",
   "mimetype": "application/julia",
   "name": "julia",
   "version": "1.6.2"
  }
 },
 "nbformat": 4,
 "nbformat_minor": 5
}
