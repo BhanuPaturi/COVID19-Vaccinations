{
 "cells": [
  {
   "cell_type": "code",
   "execution_count": 1,
   "id": "453dcea3-a02b-4878-b66f-2fbf1547fdab",
   "metadata": {},
   "outputs": [
    {
     "name": "stderr",
     "output_type": "stream",
     "text": [
      "-- \u001b[1mAttaching packages\u001b[22m --------------------------------------- tidyverse 1.3.1 --\n",
      "\n",
      "\u001b[32mv\u001b[39m \u001b[34mggplot2\u001b[39m 3.3.5     \u001b[32mv\u001b[39m \u001b[34mpurrr  \u001b[39m 0.3.4\n",
      "\u001b[32mv\u001b[39m \u001b[34mtibble \u001b[39m 3.1.5     \u001b[32mv\u001b[39m \u001b[34mdplyr  \u001b[39m 1.0.7\n",
      "\u001b[32mv\u001b[39m \u001b[34mtidyr  \u001b[39m 1.1.4     \u001b[32mv\u001b[39m \u001b[34mstringr\u001b[39m 1.4.0\n",
      "\u001b[32mv\u001b[39m \u001b[34mreadr  \u001b[39m 2.0.2     \u001b[32mv\u001b[39m \u001b[34mforcats\u001b[39m 0.5.1\n",
      "\n",
      "-- \u001b[1mConflicts\u001b[22m ------------------------------------------ tidyverse_conflicts() --\n",
      "\u001b[31mx\u001b[39m \u001b[34mdplyr\u001b[39m::\u001b[32mfilter()\u001b[39m masks \u001b[34mstats\u001b[39m::filter()\n",
      "\u001b[31mx\u001b[39m \u001b[34mdplyr\u001b[39m::\u001b[32mlag()\u001b[39m    masks \u001b[34mstats\u001b[39m::lag()\n",
      "\n"
     ]
    }
   ],
   "source": [
    "library(tidyverse)\n",
    "library(dplyr)\n",
    "library(ggplot2)"
   ]
  },
  {
   "cell_type": "code",
   "execution_count": 2,
   "id": "0a31b58f-37fb-48fc-8ab9-f0715acb2a09",
   "metadata": {},
   "outputs": [
    {
     "name": "stderr",
     "output_type": "stream",
     "text": [
      "New names:\n",
      "* `` -> ...1\n",
      "\n",
      "\u001b[1m\u001b[1mRows: \u001b[1m\u001b[22m\u001b[34m\u001b[34m228\u001b[34m\u001b[39m \u001b[1m\u001b[1mColumns: \u001b[1m\u001b[22m\u001b[34m\u001b[34m14\u001b[34m\u001b[39m\n",
      "\n",
      "\u001b[36m--\u001b[39m \u001b[1m\u001b[1mColumn specification\u001b[1m\u001b[22m \u001b[36m--------------------------------------------------------\u001b[39m\n",
      "\u001b[1mDelimiter:\u001b[22m \",\"\n",
      "\u001b[31mchr\u001b[39m (5): country_code, country_name, region, first_vaccine_date, last_update...\n",
      "\u001b[32mdbl\u001b[39m (9): ...1, total_cases, total_deaths, total_vaccinations, vaccinated_1do...\n",
      "\n",
      "\n",
      "\u001b[36mi\u001b[39m Use \u001b[30m\u001b[47m\u001b[30m\u001b[47m`spec()`\u001b[47m\u001b[30m\u001b[49m\u001b[39m to retrieve the full column specification for this data.\n",
      "\u001b[36mi\u001b[39m Specify the column types or set \u001b[30m\u001b[47m\u001b[30m\u001b[47m`show_col_types = FALSE`\u001b[47m\u001b[30m\u001b[49m\u001b[39m to quiet this message.\n",
      "\n"
     ]
    }
   ],
   "source": [
    "fully_vacc_data <- read_csv(\"Covid_Data.csv\")"
   ]
  },
  {
   "cell_type": "code",
   "execution_count": 3,
   "id": "f1807a5c-5b0a-4c00-a459-789cfa292f4e",
   "metadata": {},
   "outputs": [
    {
     "data": {
      "image/png": "[encoded data removed]",
      "text/plain": [
       "plot without title"
      ]
     },
     "metadata": {
      "image/png": {
       "height": 420,
       "width": 420
      }
     },
     "output_type": "display_data"
    }
   ],
   "source": [
    "#List of Top 20 fully vaccinated countries\n",
    "fully_vacc_data  %>%\n",
    "    arrange(desc(percent_full_vac)) %>%\n",
    "    slice(1:20) %>%\n",
    "    ggplot()+ \n",
    "    geom_bar(aes(x = reorder(country_name, percent_full_vac), \n",
    "                y=percent_full_vac,\n",
    "                fill = country_name),\n",
    "                show.legend = FALSE,\n",
    "            stat=\"identity\") +\n",
    "    scale_fill_manual(\"Country\", values=c(\"#FFFF33\",\"#7FFFD4\",\"#837E7C\",\"#E42217\",\"#FFCBA4\",\n",
    "                                          \"#800080\",\"#00FF00\",\"#C0C0C0\",\"#FF0000\",\"#FFFF00\",\n",
    "                                          \"#800000\",\"#FFA500\",\"#00FFFF\",\"#008000\",\"#FFC0CB\",\n",
    "                                          \"#A52A2A\",\"#FFC0CB\",\"#00008B\",\"#808000\",\"#7F462C\"))+\n",
    "    coord_flip()+\n",
    "    xlab(\"Country\")+\n",
    "    ylab(\"Percentage of people fully vaccinated\") +\n",
    "    ggtitle(\"Top 20 countries fully vaccinated against COVID-19\")+\n",
    "    theme_bw()"
   ]
  },
  {
   "cell_type": "code",
   "execution_count": null,
   "id": "6bd4b912-dcb0-4e6e-abe5-3d3fe97bdaf4",
   "metadata": {},
   "outputs": [],
   "source": []
  }
 ],
 "metadata": {
  "kernelspec": {
   "display_name": "R",
   "language": "R",
   "name": "ir"
  },
  "language_info": {
   "codemirror_mode": "r",
   "file_extension": ".r",
   "mimetype": "text/x-r-source",
   "name": "R",
   "pygments_lexer": "r",
   "version": "4.1.1"
  }
 },
 "nbformat": 4,
 "nbformat_minor": 5
}
