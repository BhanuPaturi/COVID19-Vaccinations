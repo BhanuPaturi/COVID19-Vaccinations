{
 "cells": [
  {
   "cell_type": "code",
   "execution_count": 1,
   "id": "aa5b96a3-7807-4bc3-9a92-00eba9b2efad",
   "metadata": {},
   "outputs": [],
   "source": [
    "using HTTP # requests the HTML information from the web server\n",
    "using Gumbo # parses HTML data\n",
    "using Cascadia # to select all the elements using selectors\n",
    "using DataFrames #helps to work with a tabular data\n",
    "using WorldBankData #provides the global development data, it is used for country codes\n",
    "using CSV # exporting the dataframe into csv format "
   ]
  },
  {
   "cell_type": "markdown",
   "id": "10bc3b91-24b4-4d4f-a48c-04fa206e0ebf",
   "metadata": {},
   "source": [
    "##### https://www.oecd.org/about/members-and-partners/ to collect the 38 member countries"
   ]
  },
  {
   "cell_type": "code",
   "execution_count": 2,
   "id": "86788288-5ce0-4e46-ac7c-0058fdbaccc3",
   "metadata": {},
   "outputs": [
    {
     "data": {
      "text/plain": [
       "\"https://www.oecd.org/about/members-and-partners/\""
      ]
     },
     "execution_count": 2,
     "metadata": {},
     "output_type": "execute_result"
    }
   ],
   "source": [
    "url = \"https://www.oecd.org/about/members-and-partners/\""
   ]
  },
  {
   "cell_type": "code",
   "execution_count": 3,
   "id": "d944ef64-c832-42a6-9a76-33747e401d21",
   "metadata": {
    "tags": []
   },
   "outputs": [
    {
     "data": {
      "text/plain": [
       "HTTP.Messages.Response:\n",
       "\"\"\"\n",
       "HTTP/1.1 200 OK\r\n",
       "Content-Type: text/html\r\n",
       "Last-Modified: Sat, 09 Oct 2021 09:54:09 GMT\r\n",
       "ETag: \"80f6be9af3bcd71:0\"\r\n",
       "Server: Microsoft-IIS/10.0\r\n",
       "X-Powered-By: ASP.NET\r\n",
       "X-Frame-Options: SAMEORIGIN\r\n",
       "X-UA-Compatible: IE=9\r\n",
       "Date: Fri, 22 Oct 2021 02:48:46 GMT\r\n",
       "Content-Length: 79062\r\n",
       "\r\n",
       "<!DOCTYPE html>\r\n",
       "<html lang=\"en\">\r\n",
       "  <head>\r\n",
       "    <meta charset=\"utf-8\">\r\n",
       "    <meta http-equiv=\"X-UA-Compatible\" content=\"IE=edge\">\r\n",
       "    <meta name=\"viewport\" content=\"width=device-width, initial-scale=1\">\r\n",
       "    <title>Our global reach - OECD</title>\r\n",
       "    \r\n",
       "    <meta name=\"description\" content=\"Today, our 38 Member countries span the globe, from North and South America to Europe and Asia-Pacific. Find out more about OECD members and partners\" />\n",
       " <!-- description -->\r\n",
       "    <meta name=\"keywords\" content=\"member countries, oecd, members, oecd members, partners, oecd countries\" />\n",
       " <!-- keywords -->\r\n",
       "      \r\n",
       "    <meta property=\"og:image\" content=\"http://www.oecd.org/media/oecdorg/about/layer2pages/where-did-you-know.jpg\" />\n",
       " <!-- og:image -->\r\n",
       "    <meta property=\"og:title\" content=\"OECD member countries and partners\" />\n",
       " <!-- og:title -->\r\n",
       "    <meta property=\"og:description\" content=\"Today, our 38 Member countries span the globe, from North and South America to Europe and Asia-Pacific. Find \n",
       "⋮\n",
       "79062-byte body\n",
       "\"\"\""
      ]
     },
     "execution_count": 3,
     "metadata": {},
     "output_type": "execute_result"
    }
   ],
   "source": [
    "request = HTTP.get(url)"
   ]
  },
  {
   "cell_type": "code",
   "execution_count": 4,
   "id": "e0f31c84-2974-41a7-99d4-a4ac20ceebb4",
   "metadata": {
    "tags": []
   },
   "outputs": [
    {
     "data": {
      "text/plain": [
       "HTML Document:\n",
       "<!DOCTYPE html>\n",
       "HTMLElement{:HTML}:<HTML lang=\"en\">\n",
       "  <head>\n",
       "    <meta charset=\"utf-8\"/>\n",
       "    <meta content=\"IE=edge\" http-equiv=\"X-UA-Compatible\"/>\n",
       "    <meta content=\"width=device-width, initial-scale=1\" name=\"viewport\"/>\n",
       "    <title>\n",
       "      Our global reach - OECD\n",
       "    </title>\n",
       "    <meta content=\"Today, our 38 Member countries span the globe, from North and South America to Europe and Asia-Pacific. Find out more about OECD members and partners\" name=\"description\"/>\n",
       "    <meta content=\"member countries, oecd, members, oecd members, partners, oecd countries\" name=\"keywords\"/>\n",
       "    <meta content=\"http://www.oecd.org/media/oecdorg/about/layer2pages/where-did-you-know.jpg\" property=\"og:image\"/>\n",
       "    <meta content=\"OECD member countries and partners\" property=\"og:title\"/>\n",
       "    <meta content=\"Today, our 38 Member countries span the globe, from North and South America to Europe and Asia-Pacific. Find out more about OECD members and partners\" property=\"og:description\"/>\n",
       "    <meta content=\"summary\" name=\"twitter:card\"/>\n",
       "    <meta content=\"The OECD promotes #internationalcooperation: a global reach for the implementation of the best initiatives! Read more about the OECD members and partners:\" name=\"twitter:title\"/>\n",
       "    <meta content=\"http://www.oecd.org/media/oecdorg/about/layer2pages/where-did-you-know.jpg\" name=\"twitter:image\"/>\n",
       "    <link href=\"/media/oecdorg/about/css/base.css\" media=\"\" rel=\"stylesheet\" type=\"text/css\"/>\n",
       "    <link href=\"/media/oecdorg/about/css/index.css\" media=\"\" rel=\"stylesheet\" type=\"text/css\"/>\n",
       "    <link href=\"/media/oecdorg/styleassets/responsive/oecd/css/popup.css\" media=\"\" rel=\"stylesheet\" type=\"text/css\"/>\n",
       "    <script src=\"/media/oecdorg/styleassets/responsive/lib/jquery/jquery-min.js\" type=\"text/javascript\"></script>\n",
       "...\n"
      ]
     },
     "execution_count": 4,
     "metadata": {},
     "output_type": "execute_result"
    }
   ],
   "source": [
    "#Gumbo is used to parse the HTML, before parsing it is converted to String\n",
    "html_doc = parsehtml(String(request.body))"
   ]
  },
  {
   "cell_type": "code",
   "execution_count": 5,
   "id": "8baf9914-6ea9-4ce6-b8d1-e3c0bc4f19cd",
   "metadata": {
    "tags": []
   },
   "outputs": [
    {
     "data": {
      "text/plain": [
       "HTMLElement{:body}:<body>\n",
       "  <script>\n",
       "        dataLayer = [{\n",
       "            'siteName': \"oecd.org\",\n",
       "            'siteEnvironment': \"live\",\n",
       "            'pageLanguage': \"en\"\n",
       "        }];\n",
       "      </script>\n",
       "  <script>(function (w, d, s, l, i) {\n",
       "        w[l] = w[l] || [];\n",
       "        w[l].push({\n",
       "            'gtm.start':\n",
       "                new Date().getTime(), event: 'gtm.js'\n",
       "        });\n",
       "        var f = d.getElementsByTagName(s)[0],\n",
       "            j = d.createElement(s), dl = l != 'dataLayer' ? '&l=' + l : '';\n",
       "        j.async = true;\n",
       "        j.src = 'https://www.googletagmanager.com/gtm.js?id=' + i + dl;\n",
       "        f.parentNode.insertBefore(j, f);\n",
       "    })(window, document, 'script', 'dataLayer', 'GTM-P5JSM4P');  </script>\n",
       "...\n"
      ]
     },
     "execution_count": 5,
     "metadata": {},
     "output_type": "execute_result"
    }
   ],
   "source": [
    "body = html_doc.root[2]"
   ]
  },
  {
   "cell_type": "code",
   "execution_count": 6,
   "id": "152b6e1b-95f4-4010-9317-f498262b2203",
   "metadata": {
    "tags": []
   },
   "outputs": [
    {
     "data": {
      "text/plain": [
       "38-element Vector{HTMLNode}:\n",
       " HTMLElement{:a}:<a class=\"country-list__country\" href=\"https://www.oecd.org/australia\">\n",
       "  Australia\n",
       "</a>\n",
       "\n",
       "\n",
       " HTMLElement{:a}:<a class=\"country-list__country\" href=\"https://www.oecd.org/austria\">\n",
       "  Austria\n",
       "</a>\n",
       "\n",
       "\n",
       " HTMLElement{:a}:<a class=\"country-list__country\" href=\"https://www.oecd.org/belgium\">\n",
       "  Belgium\n",
       "</a>\n",
       "\n",
       "\n",
       " HTMLElement{:a}:<a class=\"country-list__country\" href=\"https://www.oecd.org/canada\">\n",
       "  Canada\n",
       "</a>\n",
       "\n",
       "\n",
       " HTMLElement{:a}:<a class=\"country-list__country\" href=\"https://www.oecd.org/chile\">\n",
       "  Chile\n",
       "</a>\n",
       "\n",
       "\n",
       " HTMLElement{:a}:<a class=\"country-list__country\" href=\"https://www.oecd.org/colombia/\">\n",
       "  Colombia\n",
       "</a>\n",
       "\n",
       "\n",
       " HTMLElement{:a}:<a class=\"country-list__country\" href=\"https://www.oecd.org/costarica/\">\n",
       "  Costa Rica\n",
       "</a>\n",
       "\n",
       "\n",
       " HTMLElement{:a}:<a class=\"country-list__country\" href=\"https://www.oecd.org/czech/\">\n",
       "  Czech Republic\n",
       "</a>\n",
       "\n",
       "\n",
       " HTMLElement{:a}:<a class=\"country-list__country\" href=\"https://www.oecd.org/denmark/\">\n",
       "  Denmark\n",
       "</a>\n",
       "\n",
       "\n",
       " HTMLElement{:a}:<a class=\"country-list__country\" href=\"https://www.oecd.org/estonia/\">\n",
       "  Estonia\n",
       "</a>\n",
       "\n",
       "\n",
       " HTMLElement{:a}:<a class=\"country-list__country\" href=\"https://www.oecd.org/finland/\">\n",
       "  Finland\n",
       "</a>\n",
       "\n",
       "\n",
       " HTMLElement{:a}:<a class=\"country-list__country\" href=\"https://www.oecd.org/france\">\n",
       "  France\n",
       "</a>\n",
       "\n",
       "\n",
       " HTMLElement{:a}:<a class=\"country-list__country\" href=\"https://www.oecd.org/germany/\">\n",
       "  Germany\n",
       "</a>\n",
       "\n",
       "\n",
       " ⋮\n",
       " HTMLElement{:a}:<a class=\"country-list__country\" href=\"https://www.oecd.org/newzealand/\">\n",
       "  New Zealand\n",
       "</a>\n",
       "\n",
       "\n",
       " HTMLElement{:a}:<a class=\"country-list__country\" href=\"https://www.oecd.org/norway/\">\n",
       "  Norway\n",
       "</a>\n",
       "\n",
       "\n",
       " HTMLElement{:a}:<a class=\"country-list__country\" href=\"https://www.oecd.org/poland/\">\n",
       "  Poland\n",
       "</a>\n",
       "\n",
       "\n",
       " HTMLElement{:a}:<a class=\"country-list__country\" href=\"https://www.oecd.org/portugal/\">\n",
       "  Portugal\n",
       "</a>\n",
       "\n",
       "\n",
       " HTMLElement{:a}:<a class=\"country-list__country\" href=\"https://www.oecd.org/slovakia/\">\n",
       "  Slovak Republic\n",
       "</a>\n",
       "\n",
       "\n",
       " HTMLElement{:a}:<a class=\"country-list__country\" href=\"https://www.oecd.org/slovenia/\">\n",
       "  Slovenia\n",
       "</a>\n",
       "\n",
       "\n",
       " HTMLElement{:a}:<a class=\"country-list__country\" href=\"https://www.oecd.org/spain/\">\n",
       "  Spain\n",
       "</a>\n",
       "\n",
       "\n",
       " HTMLElement{:a}:<a class=\"country-list__country\" href=\"https://www.oecd.org/sweden/\">\n",
       "  Sweden\n",
       "</a>\n",
       "\n",
       "\n",
       " HTMLElement{:a}:<a class=\"country-list__country\" href=\"https://www.oecd.org/switzerland/\">\n",
       "  Switzerland\n",
       "</a>\n",
       "\n",
       "\n",
       " HTMLElement{:a}:<a class=\"country-list__country\" href=\"https://www.oecd.org/turkey/\">\n",
       "  Turkey\n",
       "</a>\n",
       "\n",
       "\n",
       " HTMLElement{:a}:<a class=\"country-list__country\" href=\"https://www.oecd.org/unitedkingdom/\">\n",
       "  United Kingdom\n",
       "</a>\n",
       "\n",
       "\n",
       " HTMLElement{:a}:<a class=\"country-list__country\" href=\"https://www.oecd.org/unitedstates/\">\n",
       "  United States\n",
       "</a>\n",
       "\n"
      ]
     },
     "execution_count": 6,
     "metadata": {},
     "output_type": "execute_result"
    }
   ],
   "source": [
    "#Country names are in \"#members a\", which is an id and to extract each matching node\n",
    "#in the XML document\n",
    "\n",
    "sel_for_country_name = Selector(\"#members a\")\n",
    "country_list = eachmatch(sel_for_country_name,body)"
   ]
  },
  {
   "cell_type": "code",
   "execution_count": 7,
   "id": "d761bfa4-0512-4c01-967b-8ee68e30e8a1",
   "metadata": {},
   "outputs": [
    {
     "data": {
      "text/plain": [
       "38-element Vector{String}:\n",
       " \"Australia\"\n",
       " \"Austria\"\n",
       " \"Belgium\"\n",
       " \"Canada\"\n",
       " \"Chile\"\n",
       " \"Colombia\"\n",
       " \"Costa Rica\"\n",
       " \"Czech Republic\"\n",
       " \"Denmark\"\n",
       " \"Estonia\"\n",
       " \"Finland\"\n",
       " \"France\"\n",
       " \"Germany\"\n",
       " ⋮\n",
       " \"New Zealand\"\n",
       " \"Norway\"\n",
       " \"Poland\"\n",
       " \"Portugal\"\n",
       " \"Slovak Republic\"\n",
       " \"Slovenia\"\n",
       " \"Spain\"\n",
       " \"Sweden\"\n",
       " \"Switzerland\"\n",
       " \"Turkey\"\n",
       " \"United Kingdom\"\n",
       " \"United States\""
      ]
     },
     "execution_count": 7,
     "metadata": {},
     "output_type": "execute_result"
    }
   ],
   "source": [
    "country_name = nodeText.(country_list) "
   ]
  },
  {
   "cell_type": "code",
   "execution_count": 8,
   "id": "eb7f2bdd-4971-4c09-acee-0ad545e32d52",
   "metadata": {
    "tags": []
   },
   "outputs": [
    {
     "data": {
      "text/html": [
       "<table class=\"data-frame\"><thead><tr><th></th><th>name</th></tr><tr><th></th><th>String</th></tr></thead><tbody><p>38 rows × 1 columns</p><tr><th>1</th><td>Australia</td></tr><tr><th>2</th><td>Austria</td></tr><tr><th>3</th><td>Belgium</td></tr><tr><th>4</th><td>Canada</td></tr><tr><th>5</th><td>Chile</td></tr><tr><th>6</th><td>Colombia</td></tr><tr><th>7</th><td>Costa Rica</td></tr><tr><th>8</th><td>Czech Republic</td></tr><tr><th>9</th><td>Denmark</td></tr><tr><th>10</th><td>Estonia</td></tr><tr><th>11</th><td>Finland</td></tr><tr><th>12</th><td>France</td></tr><tr><th>13</th><td>Germany</td></tr><tr><th>14</th><td>Greece</td></tr><tr><th>15</th><td>Hungary</td></tr><tr><th>16</th><td>Iceland</td></tr><tr><th>17</th><td>Ireland</td></tr><tr><th>18</th><td>Israel</td></tr><tr><th>19</th><td>Italy</td></tr><tr><th>20</th><td>Japan</td></tr><tr><th>21</th><td>Korea</td></tr><tr><th>22</th><td>Latvia</td></tr><tr><th>23</th><td>Lithuania</td></tr><tr><th>24</th><td>Luxembourg</td></tr><tr><th>25</th><td>Mexico</td></tr><tr><th>26</th><td>Netherlands</td></tr><tr><th>27</th><td>New Zealand</td></tr><tr><th>28</th><td>Norway</td></tr><tr><th>29</th><td>Poland</td></tr><tr><th>30</th><td>Portugal</td></tr><tr><th>&vellip;</th><td>&vellip;</td></tr></tbody></table>"
      ],
      "text/latex": [
       "\\begin{tabular}{r|c}\n",
       "\t& name\\\\\n",
       "\t\\hline\n",
       "\t& String\\\\\n",
       "\t\\hline\n",
       "\t1 & Australia \\\\\n",
       "\t2 & Austria \\\\\n",
       "\t3 & Belgium \\\\\n",
       "\t4 & Canada \\\\\n",
       "\t5 & Chile \\\\\n",
       "\t6 & Colombia \\\\\n",
       "\t7 & Costa Rica \\\\\n",
       "\t8 & Czech Republic \\\\\n",
       "\t9 & Denmark \\\\\n",
       "\t10 & Estonia \\\\\n",
       "\t11 & Finland \\\\\n",
       "\t12 & France \\\\\n",
       "\t13 & Germany \\\\\n",
       "\t14 & Greece \\\\\n",
       "\t15 & Hungary \\\\\n",
       "\t16 & Iceland \\\\\n",
       "\t17 & Ireland \\\\\n",
       "\t18 & Israel \\\\\n",
       "\t19 & Italy \\\\\n",
       "\t20 & Japan \\\\\n",
       "\t21 & Korea \\\\\n",
       "\t22 & Latvia \\\\\n",
       "\t23 & Lithuania \\\\\n",
       "\t24 & Luxembourg \\\\\n",
       "\t25 & Mexico \\\\\n",
       "\t26 & Netherlands \\\\\n",
       "\t27 & New Zealand \\\\\n",
       "\t28 & Norway \\\\\n",
       "\t29 & Poland \\\\\n",
       "\t30 & Portugal \\\\\n",
       "\t$\\dots$ & $\\dots$ \\\\\n",
       "\\end{tabular}\n"
      ],
      "text/plain": [
       "\u001b[1m38×1 DataFrame\u001b[0m\n",
       "\u001b[1m Row \u001b[0m│\u001b[1m name            \u001b[0m\n",
       "\u001b[1m     \u001b[0m│\u001b[90m String          \u001b[0m\n",
       "─────┼─────────────────\n",
       "   1 │ Australia\n",
       "   2 │ Austria\n",
       "   3 │ Belgium\n",
       "   4 │ Canada\n",
       "   5 │ Chile\n",
       "   6 │ Colombia\n",
       "   7 │ Costa Rica\n",
       "   8 │ Czech Republic\n",
       "   9 │ Denmark\n",
       "  10 │ Estonia\n",
       "  11 │ Finland\n",
       "  ⋮  │        ⋮\n",
       "  29 │ Poland\n",
       "  30 │ Portugal\n",
       "  31 │ Slovak Republic\n",
       "  32 │ Slovenia\n",
       "  33 │ Spain\n",
       "  34 │ Sweden\n",
       "  35 │ Switzerland\n",
       "  36 │ Turkey\n",
       "  37 │ United Kingdom\n",
       "  38 │ United States\n",
       "\u001b[36m        17 rows omitted\u001b[0m"
      ]
     },
     "execution_count": 8,
     "metadata": {},
     "output_type": "execute_result"
    }
   ],
   "source": [
    "#Transforms the data into a Data frame\n",
    "country_df = DataFrame(name = country_name)"
   ]
  },
  {
   "cell_type": "code",
   "execution_count": 9,
   "id": "39202684-57c4-4639-9b26-6a40369edc3d",
   "metadata": {
    "tags": []
   },
   "outputs": [
    {
     "data": {
      "text/plain": [
       "3-element Vector{Symbol}:\n",
       " :WorldBankData\n",
       " :search_wdi\n",
       " :wdi"
      ]
     },
     "execution_count": 9,
     "metadata": {},
     "output_type": "execute_result"
    }
   ],
   "source": [
    "#To get the elements in \"WorldBankData\" package\n",
    "names(WorldBankData)"
   ]
  },
  {
   "cell_type": "code",
   "execution_count": 10,
   "id": "6c48cf87-972e-44af-ab6b-2dcf1454d72c",
   "metadata": {
    "tags": []
   },
   "outputs": [
    {
     "data": {
      "text/html": [
       "<table class=\"data-frame\"><thead><tr><th></th><th>iso3c</th><th>name</th></tr><tr><th></th><th>String</th><th>String</th></tr></thead><tbody><p>299 rows × 2 columns</p><tr><th>1</th><td>ABW</td><td>Aruba</td></tr><tr><th>2</th><td>AFE</td><td>Africa Eastern and Southern</td></tr><tr><th>3</th><td>AFG</td><td>Afghanistan</td></tr><tr><th>4</th><td>AFR</td><td>Africa</td></tr><tr><th>5</th><td>AFW</td><td>Africa Western and Central</td></tr><tr><th>6</th><td>AGO</td><td>Angola</td></tr><tr><th>7</th><td>ALB</td><td>Albania</td></tr><tr><th>8</th><td>AND</td><td>Andorra</td></tr><tr><th>9</th><td>ARB</td><td>Arab World</td></tr><tr><th>10</th><td>ARE</td><td>United Arab Emirates</td></tr><tr><th>11</th><td>ARG</td><td>Argentina</td></tr><tr><th>12</th><td>ARM</td><td>Armenia</td></tr><tr><th>13</th><td>ASM</td><td>American Samoa</td></tr><tr><th>14</th><td>ATG</td><td>Antigua and Barbuda</td></tr><tr><th>15</th><td>AUS</td><td>Australia</td></tr><tr><th>16</th><td>AUT</td><td>Austria</td></tr><tr><th>17</th><td>AZE</td><td>Azerbaijan</td></tr><tr><th>18</th><td>BDI</td><td>Burundi</td></tr><tr><th>19</th><td>BEA</td><td>East Asia &amp; Pacific (IBRD-only countries)</td></tr><tr><th>20</th><td>BEC</td><td>Europe &amp; Central Asia (IBRD-only countries)</td></tr><tr><th>21</th><td>BEL</td><td>Belgium</td></tr><tr><th>22</th><td>BEN</td><td>Benin</td></tr><tr><th>23</th><td>BFA</td><td>Burkina Faso</td></tr><tr><th>24</th><td>BGD</td><td>Bangladesh</td></tr><tr><th>25</th><td>BGR</td><td>Bulgaria</td></tr><tr><th>26</th><td>BHI</td><td>IBRD countries classified as high income</td></tr><tr><th>27</th><td>BHR</td><td>Bahrain</td></tr><tr><th>28</th><td>BHS</td><td>Bahamas, The</td></tr><tr><th>29</th><td>BIH</td><td>Bosnia and Herzegovina</td></tr><tr><th>30</th><td>BLA</td><td>Latin America &amp; the Caribbean (IBRD-only countries)</td></tr><tr><th>&vellip;</th><td>&vellip;</td><td>&vellip;</td></tr></tbody></table>"
      ],
      "text/latex": [
       "\\begin{tabular}{r|cc}\n",
       "\t& iso3c & name\\\\\n",
       "\t\\hline\n",
       "\t& String & String\\\\\n",
       "\t\\hline\n",
       "\t1 & ABW & Aruba \\\\\n",
       "\t2 & AFE & Africa Eastern and Southern \\\\\n",
       "\t3 & AFG & Afghanistan \\\\\n",
       "\t4 & AFR & Africa \\\\\n",
       "\t5 & AFW & Africa Western and Central \\\\\n",
       "\t6 & AGO & Angola \\\\\n",
       "\t7 & ALB & Albania \\\\\n",
       "\t8 & AND & Andorra \\\\\n",
       "\t9 & ARB & Arab World \\\\\n",
       "\t10 & ARE & United Arab Emirates \\\\\n",
       "\t11 & ARG & Argentina \\\\\n",
       "\t12 & ARM & Armenia \\\\\n",
       "\t13 & ASM & American Samoa \\\\\n",
       "\t14 & ATG & Antigua and Barbuda \\\\\n",
       "\t15 & AUS & Australia \\\\\n",
       "\t16 & AUT & Austria \\\\\n",
       "\t17 & AZE & Azerbaijan \\\\\n",
       "\t18 & BDI & Burundi \\\\\n",
       "\t19 & BEA & East Asia \\& Pacific (IBRD-only countries) \\\\\n",
       "\t20 & BEC & Europe \\& Central Asia (IBRD-only countries) \\\\\n",
       "\t21 & BEL & Belgium \\\\\n",
       "\t22 & BEN & Benin \\\\\n",
       "\t23 & BFA & Burkina Faso \\\\\n",
       "\t24 & BGD & Bangladesh \\\\\n",
       "\t25 & BGR & Bulgaria \\\\\n",
       "\t26 & BHI & IBRD countries classified as high income \\\\\n",
       "\t27 & BHR & Bahrain \\\\\n",
       "\t28 & BHS & Bahamas, The \\\\\n",
       "\t29 & BIH & Bosnia and Herzegovina \\\\\n",
       "\t30 & BLA & Latin America \\& the Caribbean (IBRD-only countries) \\\\\n",
       "\t$\\dots$ & $\\dots$ & $\\dots$ \\\\\n",
       "\\end{tabular}\n"
      ],
      "text/plain": [
       "\u001b[1m299×2 DataFrame\u001b[0m\n",
       "\u001b[1m Row \u001b[0m│\u001b[1m iso3c  \u001b[0m\u001b[1m name                              \u001b[0m\n",
       "\u001b[1m     \u001b[0m│\u001b[90m String \u001b[0m\u001b[90m String                            \u001b[0m\n",
       "─────┼───────────────────────────────────────────\n",
       "   1 │ ABW     Aruba\n",
       "   2 │ AFE     Africa Eastern and Southern\n",
       "   3 │ AFG     Afghanistan\n",
       "   4 │ AFR     Africa\n",
       "   5 │ AFW     Africa Western and Central\n",
       "   6 │ AGO     Angola\n",
       "   7 │ ALB     Albania\n",
       "   8 │ AND     Andorra\n",
       "   9 │ ARB     Arab World\n",
       "  10 │ ARE     United Arab Emirates\n",
       "  11 │ ARG     Argentina\n",
       "  ⋮  │   ⋮                     ⋮\n",
       " 290 │ VNM     Vietnam\n",
       " 291 │ VUT     Vanuatu\n",
       " 292 │ WLD     World\n",
       " 293 │ WSM     Samoa\n",
       " 294 │ XKX     Kosovo\n",
       " 295 │ XZN     Sub-Saharan Africa excluding Sou…\n",
       " 296 │ YEM     Yemen, Rep.\n",
       " 297 │ ZAF     South Africa\n",
       " 298 │ ZMB     Zambia\n",
       " 299 │ ZWE     Zimbabwe\n",
       "\u001b[36m                                 278 rows omitted\u001b[0m"
      ]
     },
     "execution_count": 10,
     "metadata": {},
     "output_type": "execute_result"
    }
   ],
   "source": [
    "#search_wdi() is used along with a regular expression r\".\" to get all the country names and corresponding iso3c codes\n",
    "wbd = search_wdi(\"countries\", \"iso3c\", r\".\")\n",
    "wbd_df = select!(wbd,:iso3c,:name)"
   ]
  },
  {
   "cell_type": "code",
   "execution_count": 11,
   "id": "85ebbef0-5107-41fd-8bd6-a34252389db1",
   "metadata": {},
   "outputs": [
    {
     "data": {
      "text/html": [
       "<table class=\"data-frame\"><thead><tr><th></th><th>name</th><th>iso3c</th></tr><tr><th></th><th>String</th><th>String?</th></tr></thead><tbody><p>38 rows × 2 columns</p><tr><th>1</th><td>Australia</td><td>AUS</td></tr><tr><th>2</th><td>Austria</td><td>AUT</td></tr><tr><th>3</th><td>Belgium</td><td>BEL</td></tr><tr><th>4</th><td>Canada</td><td>CAN</td></tr><tr><th>5</th><td>Chile</td><td>CHL</td></tr><tr><th>6</th><td>Colombia</td><td>COL</td></tr><tr><th>7</th><td>Costa Rica</td><td>CRI</td></tr><tr><th>8</th><td>Czech Republic</td><td>CZE</td></tr><tr><th>9</th><td>Denmark</td><td>DNK</td></tr><tr><th>10</th><td>Estonia</td><td>EST</td></tr><tr><th>11</th><td>Finland</td><td>FIN</td></tr><tr><th>12</th><td>France</td><td>FRA</td></tr><tr><th>13</th><td>Germany</td><td>DEU</td></tr><tr><th>14</th><td>Greece</td><td>GRC</td></tr><tr><th>15</th><td>Hungary</td><td>HUN</td></tr><tr><th>16</th><td>Iceland</td><td>ISL</td></tr><tr><th>17</th><td>Ireland</td><td>IRL</td></tr><tr><th>18</th><td>Israel</td><td>ISR</td></tr><tr><th>19</th><td>Italy</td><td>ITA</td></tr><tr><th>20</th><td>Japan</td><td>JPN</td></tr><tr><th>21</th><td>Korea</td><td><em>missing</em></td></tr><tr><th>22</th><td>Latvia</td><td>LVA</td></tr><tr><th>23</th><td>Lithuania</td><td>LTU</td></tr><tr><th>24</th><td>Luxembourg</td><td>LUX</td></tr><tr><th>25</th><td>Mexico</td><td>MEX</td></tr><tr><th>26</th><td>Netherlands</td><td>NLD</td></tr><tr><th>27</th><td>New Zealand</td><td>NZL</td></tr><tr><th>28</th><td>Norway</td><td>NOR</td></tr><tr><th>29</th><td>Poland</td><td>POL</td></tr><tr><th>30</th><td>Portugal</td><td>PRT</td></tr><tr><th>&vellip;</th><td>&vellip;</td><td>&vellip;</td></tr></tbody></table>"
      ],
      "text/latex": [
       "\\begin{tabular}{r|cc}\n",
       "\t& name & iso3c\\\\\n",
       "\t\\hline\n",
       "\t& String & String?\\\\\n",
       "\t\\hline\n",
       "\t1 & Australia & AUS \\\\\n",
       "\t2 & Austria & AUT \\\\\n",
       "\t3 & Belgium & BEL \\\\\n",
       "\t4 & Canada & CAN \\\\\n",
       "\t5 & Chile & CHL \\\\\n",
       "\t6 & Colombia & COL \\\\\n",
       "\t7 & Costa Rica & CRI \\\\\n",
       "\t8 & Czech Republic & CZE \\\\\n",
       "\t9 & Denmark & DNK \\\\\n",
       "\t10 & Estonia & EST \\\\\n",
       "\t11 & Finland & FIN \\\\\n",
       "\t12 & France & FRA \\\\\n",
       "\t13 & Germany & DEU \\\\\n",
       "\t14 & Greece & GRC \\\\\n",
       "\t15 & Hungary & HUN \\\\\n",
       "\t16 & Iceland & ISL \\\\\n",
       "\t17 & Ireland & IRL \\\\\n",
       "\t18 & Israel & ISR \\\\\n",
       "\t19 & Italy & ITA \\\\\n",
       "\t20 & Japan & JPN \\\\\n",
       "\t21 & Korea & \\emph{missing} \\\\\n",
       "\t22 & Latvia & LVA \\\\\n",
       "\t23 & Lithuania & LTU \\\\\n",
       "\t24 & Luxembourg & LUX \\\\\n",
       "\t25 & Mexico & MEX \\\\\n",
       "\t26 & Netherlands & NLD \\\\\n",
       "\t27 & New Zealand & NZL \\\\\n",
       "\t28 & Norway & NOR \\\\\n",
       "\t29 & Poland & POL \\\\\n",
       "\t30 & Portugal & PRT \\\\\n",
       "\t$\\dots$ & $\\dots$ & $\\dots$ \\\\\n",
       "\\end{tabular}\n"
      ],
      "text/plain": [
       "\u001b[1m38×2 DataFrame\u001b[0m\n",
       "\u001b[1m Row \u001b[0m│\u001b[1m name            \u001b[0m\u001b[1m iso3c   \u001b[0m\n",
       "\u001b[1m     \u001b[0m│\u001b[90m String          \u001b[0m\u001b[90m String? \u001b[0m\n",
       "─────┼──────────────────────────\n",
       "   1 │ Australia        AUS\n",
       "   2 │ Austria          AUT\n",
       "   3 │ Belgium          BEL\n",
       "   4 │ Canada           CAN\n",
       "   5 │ Chile            CHL\n",
       "   6 │ Colombia         COL\n",
       "   7 │ Costa Rica       CRI\n",
       "   8 │ Czech Republic   CZE\n",
       "   9 │ Denmark          DNK\n",
       "  10 │ Estonia          EST\n",
       "  11 │ Finland          FIN\n",
       "  ⋮  │        ⋮            ⋮\n",
       "  29 │ Poland           POL\n",
       "  30 │ Portugal         PRT\n",
       "  31 │ Slovak Republic  SVK\n",
       "  32 │ Slovenia         SVN\n",
       "  33 │ Spain            ESP\n",
       "  34 │ Sweden           SWE\n",
       "  35 │ Switzerland      CHE\n",
       "  36 │ Turkey           TUR\n",
       "  37 │ United Kingdom   GBR\n",
       "  38 │ United States    USA\n",
       "\u001b[36m                 17 rows omitted\u001b[0m"
      ]
     },
     "execution_count": 11,
     "metadata": {},
     "output_type": "execute_result"
    }
   ],
   "source": [
    "#Join country_df and wbd_df by country name  \n",
    "country_df = leftjoin(country_df, wbd_df, on=:name, matchmissing=:equal, makeunique=true)"
   ]
  },
  {
   "cell_type": "code",
   "execution_count": 18,
   "id": "cd958b2e-a3e9-42bb-af82-7461c7be98c5",
   "metadata": {},
   "outputs": [
    {
     "data": {
      "text/plain": [
       "false"
      ]
     },
     "execution_count": 18,
     "metadata": {},
     "output_type": "execute_result"
    }
   ],
   "source": [
    "# Checking missing values\n",
    "ismissing(country_df)"
   ]
  },
  {
   "cell_type": "code",
   "execution_count": 13,
   "id": "a0e55be1-13ac-4536-90a6-5450a18a6451",
   "metadata": {},
   "outputs": [
    {
     "data": {
      "text/html": [
       "<table class=\"data-frame\"><thead><tr><th></th><th>name</th><th>iso3c</th></tr><tr><th></th><th>String</th><th>String?</th></tr></thead><tbody><p>1 rows × 2 columns</p><tr><th>1</th><td>Korea</td><td><em>missing</em></td></tr></tbody></table>"
      ],
      "text/latex": [
       "\\begin{tabular}{r|cc}\n",
       "\t& name & iso3c\\\\\n",
       "\t\\hline\n",
       "\t& String & String?\\\\\n",
       "\t\\hline\n",
       "\t1 & Korea & \\emph{missing} \\\\\n",
       "\\end{tabular}\n"
      ],
      "text/plain": [
       "\u001b[1m1×2 DataFrame\u001b[0m\n",
       "\u001b[1m Row \u001b[0m│\u001b[1m name   \u001b[0m\u001b[1m iso3c   \u001b[0m\n",
       "\u001b[1m     \u001b[0m│\u001b[90m String \u001b[0m\u001b[90m String? \u001b[0m\n",
       "─────┼─────────────────\n",
       "   1 │ Korea  \u001b[90m missing \u001b[0m"
      ]
     },
     "execution_count": 13,
     "metadata": {},
     "output_type": "execute_result"
    }
   ],
   "source": [
    "filter(row -> row.name == \"Korea\",country_df) "
   ]
  },
  {
   "cell_type": "code",
   "execution_count": 14,
   "id": "e84a0d41-00e8-4e76-9077-be87c0f1567e",
   "metadata": {},
   "outputs": [
    {
     "data": {
      "text/plain": [
       "2-element Vector{String}:\n",
       " \"Korea, Rep.\"\n",
       " \"Korea, Dem. People's Rep.\""
      ]
     },
     "execution_count": 14,
     "metadata": {},
     "output_type": "execute_result"
    }
   ],
   "source": [
    "#searches for Korea in WorldBankData using regEx where i checks for case sensitivity\n",
    "search_cname = search_wdi(\"countries\",\"name\",r\"Korea\"i)\n",
    "search_cname[!, :name]"
   ]
  },
  {
   "cell_type": "code",
   "execution_count": 15,
   "id": "05305492-a089-4f2c-880f-e281c3dccefc",
   "metadata": {},
   "outputs": [
    {
     "data": {
      "text/plain": [
       "2-element Vector{String}:\n",
       " \"KOR\"\n",
       " \"PRK\""
      ]
     },
     "execution_count": 15,
     "metadata": {},
     "output_type": "execute_result"
    }
   ],
   "source": [
    "search_cname[!, :iso3c]"
   ]
  },
  {
   "cell_type": "code",
   "execution_count": 16,
   "id": "d14f2cca-41dd-402d-a5d9-c9a88304cfba",
   "metadata": {},
   "outputs": [
    {
     "data": {
      "text/plain": [
       "1-element view(::Vector{Union{Missing, String}}, [21]) with eltype Union{Missing, String}:\n",
       " \"KOR\""
      ]
     },
     "execution_count": 16,
     "metadata": {},
     "output_type": "execute_result"
    }
   ],
   "source": [
    "#Replacing the missing value with \"KOR\" for iso3c\n",
    "country_df[(country_df.name .==\"Korea\"), :iso3c] .= \"KOR\""
   ]
  },
  {
   "cell_type": "code",
   "execution_count": 17,
   "id": "dcc2e2ad-da84-4396-9b15-6fbdbb55c221",
   "metadata": {},
   "outputs": [
    {
     "data": {
      "text/html": [
       "<table class=\"data-frame\"><thead><tr><th></th><th>name</th><th>iso3c</th></tr><tr><th></th><th>String</th><th>String?</th></tr></thead><tbody><p>38 rows × 2 columns</p><tr><th>1</th><td>Australia</td><td>AUS</td></tr><tr><th>2</th><td>Austria</td><td>AUT</td></tr><tr><th>3</th><td>Belgium</td><td>BEL</td></tr><tr><th>4</th><td>Canada</td><td>CAN</td></tr><tr><th>5</th><td>Chile</td><td>CHL</td></tr><tr><th>6</th><td>Colombia</td><td>COL</td></tr><tr><th>7</th><td>Costa Rica</td><td>CRI</td></tr><tr><th>8</th><td>Czech Republic</td><td>CZE</td></tr><tr><th>9</th><td>Denmark</td><td>DNK</td></tr><tr><th>10</th><td>Estonia</td><td>EST</td></tr><tr><th>11</th><td>Finland</td><td>FIN</td></tr><tr><th>12</th><td>France</td><td>FRA</td></tr><tr><th>13</th><td>Germany</td><td>DEU</td></tr><tr><th>14</th><td>Greece</td><td>GRC</td></tr><tr><th>15</th><td>Hungary</td><td>HUN</td></tr><tr><th>16</th><td>Iceland</td><td>ISL</td></tr><tr><th>17</th><td>Ireland</td><td>IRL</td></tr><tr><th>18</th><td>Israel</td><td>ISR</td></tr><tr><th>19</th><td>Italy</td><td>ITA</td></tr><tr><th>20</th><td>Japan</td><td>JPN</td></tr><tr><th>21</th><td>Korea</td><td>KOR</td></tr><tr><th>22</th><td>Latvia</td><td>LVA</td></tr><tr><th>23</th><td>Lithuania</td><td>LTU</td></tr><tr><th>24</th><td>Luxembourg</td><td>LUX</td></tr><tr><th>25</th><td>Mexico</td><td>MEX</td></tr><tr><th>26</th><td>Netherlands</td><td>NLD</td></tr><tr><th>27</th><td>New Zealand</td><td>NZL</td></tr><tr><th>28</th><td>Norway</td><td>NOR</td></tr><tr><th>29</th><td>Poland</td><td>POL</td></tr><tr><th>30</th><td>Portugal</td><td>PRT</td></tr><tr><th>&vellip;</th><td>&vellip;</td><td>&vellip;</td></tr></tbody></table>"
      ],
      "text/latex": [
       "\\begin{tabular}{r|cc}\n",
       "\t& name & iso3c\\\\\n",
       "\t\\hline\n",
       "\t& String & String?\\\\\n",
       "\t\\hline\n",
       "\t1 & Australia & AUS \\\\\n",
       "\t2 & Austria & AUT \\\\\n",
       "\t3 & Belgium & BEL \\\\\n",
       "\t4 & Canada & CAN \\\\\n",
       "\t5 & Chile & CHL \\\\\n",
       "\t6 & Colombia & COL \\\\\n",
       "\t7 & Costa Rica & CRI \\\\\n",
       "\t8 & Czech Republic & CZE \\\\\n",
       "\t9 & Denmark & DNK \\\\\n",
       "\t10 & Estonia & EST \\\\\n",
       "\t11 & Finland & FIN \\\\\n",
       "\t12 & France & FRA \\\\\n",
       "\t13 & Germany & DEU \\\\\n",
       "\t14 & Greece & GRC \\\\\n",
       "\t15 & Hungary & HUN \\\\\n",
       "\t16 & Iceland & ISL \\\\\n",
       "\t17 & Ireland & IRL \\\\\n",
       "\t18 & Israel & ISR \\\\\n",
       "\t19 & Italy & ITA \\\\\n",
       "\t20 & Japan & JPN \\\\\n",
       "\t21 & Korea & KOR \\\\\n",
       "\t22 & Latvia & LVA \\\\\n",
       "\t23 & Lithuania & LTU \\\\\n",
       "\t24 & Luxembourg & LUX \\\\\n",
       "\t25 & Mexico & MEX \\\\\n",
       "\t26 & Netherlands & NLD \\\\\n",
       "\t27 & New Zealand & NZL \\\\\n",
       "\t28 & Norway & NOR \\\\\n",
       "\t29 & Poland & POL \\\\\n",
       "\t30 & Portugal & PRT \\\\\n",
       "\t$\\dots$ & $\\dots$ & $\\dots$ \\\\\n",
       "\\end{tabular}\n"
      ],
      "text/plain": [
       "\u001b[1m38×2 DataFrame\u001b[0m\n",
       "\u001b[1m Row \u001b[0m│\u001b[1m name            \u001b[0m\u001b[1m iso3c   \u001b[0m\n",
       "\u001b[1m     \u001b[0m│\u001b[90m String          \u001b[0m\u001b[90m String? \u001b[0m\n",
       "─────┼──────────────────────────\n",
       "   1 │ Australia        AUS\n",
       "   2 │ Austria          AUT\n",
       "   3 │ Belgium          BEL\n",
       "   4 │ Canada           CAN\n",
       "   5 │ Chile            CHL\n",
       "   6 │ Colombia         COL\n",
       "   7 │ Costa Rica       CRI\n",
       "   8 │ Czech Republic   CZE\n",
       "   9 │ Denmark          DNK\n",
       "  10 │ Estonia          EST\n",
       "  11 │ Finland          FIN\n",
       "  ⋮  │        ⋮            ⋮\n",
       "  29 │ Poland           POL\n",
       "  30 │ Portugal         PRT\n",
       "  31 │ Slovak Republic  SVK\n",
       "  32 │ Slovenia         SVN\n",
       "  33 │ Spain            ESP\n",
       "  34 │ Sweden           SWE\n",
       "  35 │ Switzerland      CHE\n",
       "  36 │ Turkey           TUR\n",
       "  37 │ United Kingdom   GBR\n",
       "  38 │ United States    USA\n",
       "\u001b[36m                 17 rows omitted\u001b[0m"
      ]
     },
     "execution_count": 17,
     "metadata": {},
     "output_type": "execute_result"
    }
   ],
   "source": [
    "country_df"
   ]
  },
  {
   "cell_type": "code",
   "execution_count": 18,
   "id": "7891b43b-54df-4c55-ac7d-362f76d76cec",
   "metadata": {},
   "outputs": [
    {
     "data": {
      "text/plain": [
       "\"OECD_country_codes.csv\""
      ]
     },
     "execution_count": 18,
     "metadata": {},
     "output_type": "execute_result"
    }
   ],
   "source": [
    "#Export Dataframe into .csv file\n",
    "CSV.write(\"OECD_country_codes.csv\", country_df)"
   ]
  },
  {
   "cell_type": "code",
   "execution_count": null,
   "id": "2880c502-d7ed-4aa9-88d4-28f3baecbb91",
   "metadata": {},
   "outputs": [],
   "source": []
  }
 ],
 "metadata": {
  "kernelspec": {
   "display_name": "Julia 1.6.2",
   "language": "julia",
   "name": "julia-1.6"
  },
  "language_info": {
   "file_extension": ".jl",
   "mimetype": "application/julia",
   "name": "julia",
   "version": "1.6.2"
  }
 },
 "nbformat": 4,
 "nbformat_minor": 5
}
